{
 "cells": [
  {
   "cell_type": "markdown",
   "id": "f37b3cfc",
   "metadata": {},
   "source": [
    "# f(x) = (sin(x)/2 + cos(x)/2)^2 * sin(x)\n",
    "1. Определить корни\n",
    "2. Найти интервалы, на которых функция возрастает\n",
    "3. Найти интервалы, на которых функция убывает\n",
    "4. Построить график\n",
    "5. Вычислить вершину\n",
    "6. Определить промежутки, на котором f > 0\n",
    "7. Определить промежутки, на котором f < 0"
   ]
  },
  {
   "cell_type": "markdown",
   "id": "2ae7cbde",
   "metadata": {},
   "source": [
    "### Импорт функций"
   ]
  },
  {
   "cell_type": "code",
   "execution_count": 5,
   "id": "e0015df0",
   "metadata": {},
   "outputs": [],
   "source": [
    "from sympy import Symbol\n",
    "from sympy import solveset, nonlinsolve, linsolve, maximum, minimum, evalf, solve\n",
    "from sympy import sin, cos, pi, sqrt, tan, atan, log\n",
    "from sympy import plot, pprint\n",
    "from sympy import is_increasing, is_decreasing, is_monotonic\n",
    "from sympy import S, Interval, oo"
   ]
  },
  {
   "cell_type": "markdown",
   "id": "5d4d539b",
   "metadata": {},
   "source": [
    "### Задание функции"
   ]
  },
  {
   "cell_type": "code",
   "execution_count": 6,
   "id": "fe8b6d73",
   "metadata": {},
   "outputs": [
    {
     "data": {
      "text/latex": [
       "$\\displaystyle \\left(\\frac{\\sin{\\left(x \\right)}}{2} + \\frac{\\cos{\\left(x \\right)}}{2}\\right)^{2} \\sin{\\left(x \\right)}$"
      ],
      "text/plain": [
       "(sin(x)/2 + cos(x)/2)**2*sin(x)"
      ]
     },
     "execution_count": 6,
     "metadata": {},
     "output_type": "execute_result"
    }
   ],
   "source": [
    "x = Symbol('x', real = True)\n",
    "y = ((sin(x)/2 + cos(x)/2)**2)*sin(x)\n",
    "y"
   ]
  },
  {
   "cell_type": "markdown",
   "id": "0b4f0492",
   "metadata": {},
   "source": [
    "### 1. Определить корни"
   ]
  },
  {
   "cell_type": "code",
   "execution_count": 7,
   "id": "1b2e9f0d",
   "metadata": {},
   "outputs": [
    {
     "name": "stdout",
     "output_type": "stream",
     "text": [
      "[0, -pi/4, 3*pi/4, pi]\n"
     ]
    }
   ],
   "source": [
    "res_solve = solve(y, x, domain = S.Reals)\n",
    "print(res_solve)"
   ]
  },
  {
   "cell_type": "code",
   "execution_count": 8,
   "id": "c13f43cb",
   "metadata": {},
   "outputs": [
    {
     "data": {
      "text/latex": [
       "$\\displaystyle \\left\\{2 n \\pi\\; \\middle|\\; n \\in \\mathbb{Z}\\right\\} \\cup \\left\\{2 n \\pi + \\pi\\; \\middle|\\; n \\in \\mathbb{Z}\\right\\} \\cup \\left\\{2 n \\pi + \\frac{3 \\pi}{4}\\; \\middle|\\; n \\in \\mathbb{Z}\\right\\} \\cup \\left\\{2 n \\pi + \\frac{7 \\pi}{4}\\; \\middle|\\; n \\in \\mathbb{Z}\\right\\}$"
      ],
      "text/plain": [
       "Union(ImageSet(Lambda(_n, 2*_n*pi + 3*pi/4), Integers), ImageSet(Lambda(_n, 2*_n*pi + 7*pi/4), Integers), ImageSet(Lambda(_n, 2*_n*pi + pi), Integers), ImageSet(Lambda(_n, 2*_n*pi), Integers))"
      ]
     },
     "execution_count": 8,
     "metadata": {},
     "output_type": "execute_result"
    }
   ],
   "source": [
    "solveset(y, x, domain = S.Reals)"
   ]
  },
  {
   "cell_type": "markdown",
   "id": "4a1fe2a4",
   "metadata": {},
   "source": [
    "#### Вычисление производной"
   ]
  },
  {
   "cell_type": "code",
   "execution_count": 9,
   "id": "3d9b252a",
   "metadata": {},
   "outputs": [
    {
     "name": "stdout",
     "output_type": "stream",
     "text": [
      "                                                               2       \n",
      "                   ⎛sin(x)   cos(x)⎞          ⎛sin(x)   cos(x)⎞        \n",
      "(-sin(x) + cos(x))⋅⎜────── + ──────⎟⋅sin(x) + ⎜────── + ──────⎟ ⋅cos(x)\n",
      "                   ⎝  2        2   ⎠          ⎝  2        2   ⎠        \n"
     ]
    }
   ],
   "source": [
    "yd = y.diff(x)\n",
    "pprint(yd)"
   ]
  },
  {
   "cell_type": "markdown",
   "id": "d022d3bf",
   "metadata": {},
   "source": [
    "#### Вычисление экстремумов производной"
   ]
  },
  {
   "cell_type": "code",
   "execution_count": 27,
   "id": "af7fbc42",
   "metadata": {},
   "outputs": [
    {
     "name": "stdout",
     "output_type": "stream",
     "text": [
      "-0.79 \t -pi/4\n",
      "2.36 \t 3*pi/4\n",
      "-2.08 \t -2*atan(-3/2 + sqrt(6)*sqrt(5 - sqrt(17))/2 + sqrt(17)/2)\n",
      "2.87 \t 2*atan(3/2 + sqrt(17)/2 + sqrt(6)*sqrt(sqrt(17) + 5)/2)\n",
      "1.06 \t 2*atan(-sqrt(17)/2 + sqrt(6)*sqrt(5 - sqrt(17))/2 + 3/2)\n",
      "-0.27 \t 2*atan(-sqrt(6)*sqrt(sqrt(17) + 5)/2 + 3/2 + sqrt(17)/2)\n"
     ]
    }
   ],
   "source": [
    "res_solve_yd = solve(yd, x)\n",
    "for i in res_solve_yd:\n",
    "    print(round(i.evalf(), 2), '\\t', i)"
   ]
  },
  {
   "cell_type": "markdown",
   "id": "c7ff482a",
   "metadata": {},
   "source": [
    "Обозначаем отрезки"
   ]
  },
  {
   "cell_type": "code",
   "execution_count": 28,
   "id": "d5c18fcd",
   "metadata": {},
   "outputs": [
    {
     "name": "stdout",
     "output_type": "stream",
     "text": [
      "-3.14 \t -pi\n",
      "-2.08 \t -2*atan(-3/2 + sqrt(6)*sqrt(5 - sqrt(17))/2 + sqrt(17)/2)\n",
      "-0.79 \t -pi/4\n",
      "-0.27 \t 2*atan(-sqrt(6)*sqrt(sqrt(17) + 5)/2 + 3/2 + sqrt(17)/2)\n",
      "1.06 \t 2*atan(-sqrt(17)/2 + sqrt(6)*sqrt(5 - sqrt(17))/2 + 3/2)\n",
      "2.36 \t 3*pi/4\n",
      "2.87 \t 2*atan(3/2 + sqrt(17)/2 + sqrt(6)*sqrt(sqrt(17) + 5)/2)\n",
      "3.14 \t pi\n"
     ]
    }
   ],
   "source": [
    "if res_solve_yd[-1] != pi:\n",
    "    res_solve_yd.append(pi)\n",
    "if res_solve_yd[0] != -pi:\n",
    "    res_solve_yd.insert(0, -pi)\n",
    "res_solve_yd.sort()\n",
    "for i in res_solve_yd:\n",
    "    print(round(i.evalf(), 2), '\\t', i)"
   ]
  },
  {
   "cell_type": "markdown",
   "id": "6436ff86",
   "metadata": {},
   "source": [
    "### 2. Найти интервалы, на которых функция возрастает\n",
    "### 3. Найти интервалы, на которых функция убывает"
   ]
  },
  {
   "cell_type": "code",
   "execution_count": 35,
   "id": "2f5a3639",
   "metadata": {
    "scrolled": true
   },
   "outputs": [
    {
     "name": "stdout",
     "output_type": "stream",
     "text": [
      "На отрезке (-3.14 : -2.08) - функция убывает\n",
      "На отрезке (-2.08 : -0.79) - функция возрастает\n",
      "На отрезке (-0.79 : -0.27) - функция убывает\n",
      "На отрезке (-0.27 : 1.06) - функция возрастает\n",
      "На отрезке (1.06 : 2.36) - функция убывает\n",
      "На отрезке (2.36 : 2.87) - функция возрастает\n",
      "На отрезке (2.87 : 3.14) - функция убывает\n"
     ]
    }
   ],
   "source": [
    "for i in range(len(res_solve_yd)-1):\n",
    "    res = yd.subs(x, (res_solve_yd[i+1] + res_solve_yd[i])/2.0)\n",
    "    if res > 0:\n",
    "        pprint(f\"На отрезке ({round(res_solve_yd[i].evalf(), 2)} : {round(res_solve_yd[i+1].evalf(), 2)}) - функция возрастает\")\n",
    "    else:\n",
    "        pprint(f\"На отрезке ({round(res_solve_yd[i].evalf(), 2)} : {round(res_solve_yd[i+1].evalf(), 2)}) - функция убывает\")"
   ]
  },
  {
   "cell_type": "markdown",
   "id": "f14373d3",
   "metadata": {},
   "source": [
    "### 4. Построить график"
   ]
  },
  {
   "cell_type": "code",
   "execution_count": 36,
   "id": "2b02b7e7",
   "metadata": {
    "scrolled": true
   },
   "outputs": [
    {
     "data": {
      "image/png": "[encoded data removed]",
      "text/plain": [
       "<Figure size 432x288 with 1 Axes>"
      ]
     },
     "metadata": {
      "needs_background": "light"
     },
     "output_type": "display_data"
    }
   ],
   "source": [
    "graph = plot (y, (x, -pi, pi))"
   ]
  },
  {
   "cell_type": "markdown",
   "id": "f2dd97a3",
   "metadata": {},
   "source": [
    "### 5. Вычислить вершину"
   ]
  },
  {
   "cell_type": "code",
   "execution_count": 37,
   "id": "f29f5a86",
   "metadata": {},
   "outputs": [
    {
     "name": "stdout",
     "output_type": "stream",
     "text": [
      "y_max =  0.404\n",
      "y_min =  -0.404\n"
     ]
    }
   ],
   "source": [
    "y_max = maximum(y, x, Interval(-pi, pi)).evalf()\n",
    "y_min = minimum(y, x, Interval(-pi, pi)).evalf()\n",
    "\n",
    "print('y_max = ', round(y_max, 3))\n",
    "print('y_min = ', round(y_min, 3))"
   ]
  },
  {
   "cell_type": "code",
   "execution_count": 41,
   "id": "a6edee65",
   "metadata": {},
   "outputs": [
    {
     "name": "stdout",
     "output_type": "stream",
     "text": [
      "Вершина 1: x = -3.14, y = 0\n",
      "Вершина 2: x = -2.08, y = -0.40\n",
      "Вершина 3: x = -0.79, y = 0\n",
      "Вершина 4: x = -0.27, y = -0.03\n",
      "Вершина 5: x = 1.06, y = 0.40\n",
      "Вершина 6: x = 2.36, y = 0\n",
      "Вершина 7: x = 2.87, y = 0.03\n",
      "Вершина 8: x = 3.14, y = 0\n",
      "\n",
      "y_max =  0.404106232073136\n",
      "y_min =  -0.404106232073136\n"
     ]
    }
   ],
   "source": [
    "for i in range(len(res_solve_yd)):\n",
    "    res = y.subs(x, res_solve_yd[i])\n",
    "    print(f\"Вершина {i+1}: x = {round(res_solve_yd[i].evalf(), 2)}, y = {round(res, 2)}\")\n",
    "    if i == 0:\n",
    "        ymax = res\n",
    "        ymin = res\n",
    "    else:\n",
    "        if res < ymin:\n",
    "            ymin = res\n",
    "        if res > ymax:\n",
    "            ymax = res\n",
    "print()\n",
    "print('y_max = ', ymax.evalf())\n",
    "print('y_min = ', ymin.evalf())"
   ]
  },
  {
   "cell_type": "markdown",
   "id": "0e3654e6",
   "metadata": {},
   "source": [
    "###### 6. Определить промежутки, на котором f > 0\n",
    "###### 7. Определить промежутки, на котором f < 0"
   ]
  },
  {
   "cell_type": "code",
   "execution_count": 42,
   "id": "914fac6d",
   "metadata": {},
   "outputs": [
    {
     "name": "stdout",
     "output_type": "stream",
     "text": [
      "[-pi, -pi/4, 0, 3*pi/4, pi]\n"
     ]
    }
   ],
   "source": [
    "if res_solve[-1] != pi:\n",
    "    res_solve.append(pi)\n",
    "if res_solve[0] != -pi:\n",
    "    res_solve.insert(0, -pi)\n",
    "res_solve.sort()\n",
    "print(res_solve)"
   ]
  },
  {
   "cell_type": "code",
   "execution_count": 43,
   "id": "c4384d1f",
   "metadata": {},
   "outputs": [
    {
     "name": "stdout",
     "output_type": "stream",
     "text": [
      "На отрезке (-pi : -pi/4 - функция меньше 0)\n",
      "На отрезке (-pi/4 : 0 - функция меньше 0)\n",
      "На отрезке (0 : 3*pi/4 - функция больше 0)\n",
      "На отрезке (3*pi/4 : pi - функция больше 0)\n"
     ]
    }
   ],
   "source": [
    "for i in range(len(res_solve)-1):\n",
    "    res = y.subs(x, (res_solve[i+1] + res_solve[i])/2.0)\n",
    "    if res > 0:\n",
    "        pprint(f\"На отрезке ({res_solve[i]} : {res_solve[i+1]} - функция больше 0)\")\n",
    "    else:\n",
    "        pprint(f\"На отрезке ({res_solve[i]} : {res_solve[i+1]} - функция меньше 0)\")"
   ]
  },
  {
   "cell_type": "code",
   "execution_count": null,
   "id": "9a0368d7",
   "metadata": {},
   "outputs": [],
   "source": []
  }
 ],
 "metadata": {
  "kernelspec": {
   "display_name": "Python 3 (ipykernel)",
   "language": "python",
   "name": "python3"
  },
  "language_info": {
   "codemirror_mode": {
    "name": "ipython",
    "version": 3
   },
   "file_extension": ".py",
   "mimetype": "text/x-python",
   "name": "python",
   "nbconvert_exporter": "python",
   "pygments_lexer": "ipython3",
   "version": "3.9.12"
  }
 },
 "nbformat": 4,
 "nbformat_minor": 5
}
